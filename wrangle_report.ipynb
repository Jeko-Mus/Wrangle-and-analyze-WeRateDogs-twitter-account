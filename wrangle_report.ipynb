{
 "cells": [
  {
   "cell_type": "markdown",
   "metadata": {},
   "source": [
    "# The data wrangling process for the WeRateDogs Project"
   ]
  },
  {
   "cell_type": "markdown",
   "metadata": {},
   "source": [
    "## Data gathering"
   ]
  },
  {
   "cell_type": "markdown",
   "metadata": {},
   "source": [
    "#### The data that needed to be gathered was not all in one file or website but consisted of three different pieces of data that all needed to be gathered separately as follows:\n",
    "\n",
    "#### The WeRateDogs twitter archive ( dataframe called twitter_archive)\n",
    "- This csv file was given and thus just needed to be downloaded manually and read into jupyter notebook as a csv file.\n",
    "\n",
    "#### The tweet image predictions (dataframe called image_pred)\n",
    "- This file had to be downloaded programmatically and this was done using the requests library and the corresponding url.\n",
    "\n",
    "#### Each tweets number of likes and number of retweets (dataframe called tweet_attr)\n",
    "- In order to get this data I initially had to creat and request for a Twitter developer account from twitter in order to be able to be authorized to use the twitter API. The data is stored in JSON format and Tweepy is used to query the Twitter API for each tweet and then each tweet's json data is written and saved in the file tweet_json.txt. This txt file was then read into the dataframe using the json.loads function line by line."
   ]
  },
  {
   "cell_type": "markdown",
   "metadata": {},
   "source": [
    "## Assessing the data"
   ]
  },
  {
   "cell_type": "markdown",
   "metadata": {},
   "source": [
    "#### The three different data frames all had to be assessed in order to find dirty and messy data to clean. Messy data is easily seen visually and dirty data, programmatically.\n",
    "\n",
    "#### Visual assesment showed:\n",
    "\n",
    "- quite a few missing values\n",
    "- 3 dataframes had been gathered but should be merged into one\n",
    "- some variable names difficult to understand e.g. p1 and p1_dog\n",
    "- some columns had more than one variable in them and the dog stage variable was split into four columns instead of one.\n",
    "\n",
    "#### Programmatic assessment\n",
    "\n",
    "Used info, describe, head, query, and other functions to assess the data programmatically to find the following:\n",
    "\n",
    "- retweet rows and columns that should not be present for analysis as we only want original tweets\n",
    "- very high or low rating denominator and numerator values\n",
    "- tweet's that have no images that should not be there as all tweets analyzed need to have a matching image\n",
    "- incorrect data types\n",
    "- incorrect dog names suc as 'a' and 'an'\n"
   ]
  },
  {
   "cell_type": "markdown",
   "metadata": {},
   "source": [
    "## Data Cleaning"
   ]
  },
  {
   "cell_type": "markdown",
   "metadata": {},
   "source": [
    "Before cleaning the data, copies of the three dataframes were made. The data was cleaned chronologically in the order in which the issues were assessed and identified. With the exception that missing values and the merge of all three dataframes into one actions were executed first.\n",
    "\n",
    "The cleaning process used a variety of functions and methods to thoroughly clean the data and sometimes during the cleaning process there were times I found myself finding data to re-assess and re-clean after a particular execution of a cleaning.\n",
    "\n",
    "After the cleaning was executed I renamed all the columns that needed better naming and re-arranged the columns in such a way that it was easier to read and understand the dataframe.\n",
    "\n",
    "The cleaned dataframes were then saved to a csv file."
   ]
  }
 ],
 "metadata": {
  "kernelspec": {
   "display_name": "Python 3",
   "language": "python",
   "name": "python3"
  },
  "language_info": {
   "codemirror_mode": {
    "name": "ipython",
    "version": 3
   },
   "file_extension": ".py",
   "mimetype": "text/x-python",
   "name": "python",
   "nbconvert_exporter": "python",
   "pygments_lexer": "ipython3",
   "version": "3.6.3"
  }
 },
 "nbformat": 4,
 "nbformat_minor": 2
}
