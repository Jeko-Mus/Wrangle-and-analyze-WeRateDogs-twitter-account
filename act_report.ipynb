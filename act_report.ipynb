{
 "cells": [
  {
   "cell_type": "markdown",
   "metadata": {},
   "source": [
    "# **An analysis of the WeRateDogs Twitter account**"
   ]
  },
  {
   "cell_type": "markdown",
   "metadata": {},
   "source": [
    "### WeRateDogs is a twitter account that was formed four years ago and now has more than 7 million followers. The purpose of this account is for users to post their dog, attach a quirky text to it, leave a rating for their dog out of 10 and make their dog perhaps famous! Most users leave higher than 10/10 ratings for their dogs which is part of the unique setup associated with this account.\n",
    "### This report will look at some key important insights with regards to this twitter account such as the most liked and retweeted tweets. Whether higher dog ratings are associated with more likes or not or the length of a tweet has more likes or perhaps not.\n",
    "### We will also be able to see what the most common breed of dogs that are tweeted are!"
   ]
  },
  {
   "cell_type": "markdown",
   "metadata": {},
   "source": [
    "## Most Favorite tweet and retweet\n",
    "### The tweet that has had the most likes of almost 160 000 and also been retweeted the most was on the 18th of June 2016. The tweet read  \"Here's a doggo realizing you can stand in a pool. 13/10 enlightened af (vid by Tina Conrad)\" and it was actually a video and can also see this lovely picture below, that gave it a rating of 13/10."
   ]
  },
  {
   "cell_type": "markdown",
   "metadata": {},
   "source": [
    "<img src=\"dog_picture.jpg\" style=\"width:300px;height:300px\"/>"
   ]
  },
  {
   "cell_type": "markdown",
   "metadata": {},
   "source": [
    "## Top dog breeds and dog stages"
   ]
  },
  {
   "cell_type": "markdown",
   "metadata": {},
   "source": [
    "### This account sees a lot of pictures and photos of dogs of every breed, age and colour on a daily basis with the top 5 breeds of dogs being *golden retriever, labrador retriever, Pembroke, Chihuahua and Pug* in that order.\n",
    "### There also exists dog stages in life and these are named and explained as follows starting with the most common stage type.\n",
    "\n",
    "- pupper - would be a smaller, younger doggo\n",
    "\n",
    "- doggo - usually older, a big pupper to say\n",
    "\n",
    "- puppo - somewehere between a pupper and a doggo, referred to as the dog equivalent of a teenage\n",
    " \n",
    "- floofer - name given to dogs that tend to have a lot of fur\n",
    "\n",
    "\n",
    "### Most dogs are of the pupper type which are smaller than doggo's and tend to be younger too. The Pupper dog stage is by far the larger of the category of dog stages that dogs fit into on this account. This seems to imply that most of the tweet users own fairly small and young dogs. There also exists a mixture of stages and these are dogs that are categorised as identifying with two stages and not just one."
   ]
  },
  {
   "cell_type": "markdown",
   "metadata": {},
   "source": [
    "<img src=\"dog_graph.png\" style=\"width:400px;height:300px\"/>"
   ]
  },
  {
   "cell_type": "markdown",
   "metadata": {},
   "source": [
    "### It is also found that tweets tend to have more likes the higher the ratings with also a notion of longer than average tweets having lower ratings.\n",
    "\n",
    "### All in all its safe to assume that WeRateDogs twitter account has done really well in growing its numbers over such a short space of time but that should be expected as they have users a platform to express their love and fun filled lives with their dogs.\n"
   ]
  }
 ],
 "metadata": {
  "kernelspec": {
   "display_name": "Python 3",
   "language": "python",
   "name": "python3"
  },
  "language_info": {
   "codemirror_mode": {
    "name": "ipython",
    "version": 3
   },
   "file_extension": ".py",
   "mimetype": "text/x-python",
   "name": "python",
   "nbconvert_exporter": "python",
   "pygments_lexer": "ipython3",
   "version": "3.6.3"
  }
 },
 "nbformat": 4,
 "nbformat_minor": 2
}
